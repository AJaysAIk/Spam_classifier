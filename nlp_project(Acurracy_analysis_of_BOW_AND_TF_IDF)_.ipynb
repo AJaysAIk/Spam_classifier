{
  "nbformat": 4,
  "nbformat_minor": 0,
  "metadata": {
    "colab": {
      "provenance": [],
      "authorship_tag": "ABX9TyPx7zxMsN10c4jfoUopt5dH",
      "include_colab_link": true
    },
    "kernelspec": {
      "name": "python3",
      "display_name": "Python 3"
    },
    "language_info": {
      "name": "python"
    }
  },
  "cells": [
    {
      "cell_type": "markdown",
      "metadata": {
        "id": "view-in-github",
        "colab_type": "text"
      },
      "source": [
        "<a href=\"https://colab.research.google.com/github/AJaysAIk/Spam_classifier/blob/main/nlp_project(Acurracy_analysis_of_BOW_AND_TF_IDF)_.ipynb\" target=\"_parent\"><img src=\"https://colab.research.google.com/assets/colab-badge.svg\" alt=\"Open In Colab\"/></a>"
      ]
    },
    {
      "cell_type": "code",
      "execution_count": 2,
      "metadata": {
        "colab": {
          "base_uri": "https://localhost:8080/"
        },
        "id": "uLaIa_2UjknV",
        "outputId": "74f96dbf-05e1-44cc-e51a-d0b70b0f3f80"
      },
      "outputs": [
        {
          "output_type": "stream",
          "name": "stdout",
          "text": [
            "Files successfully downloaded and extracted to ./smsspamcollection\n"
          ]
        }
      ],
      "source": [
        "import requests\n",
        "import zipfile\n",
        "import io\n",
        "def download_and_extract_zip(url, extract_to='.'):\n",
        "    # Send a GET request to the URL\n",
        "    response = requests.get(url)\n",
        "\n",
        "    # Check if the request was successful\n",
        "    if response.status_code == 200:\n",
        "        # Use ZipFile to read the content as a zip file\n",
        "        with zipfile.ZipFile(io.BytesIO(response.content)) as z:\n",
        "            z.extractall(path=extract_to)\n",
        "        print(f\"Files successfully downloaded and extracted to {extract_to}\")\n",
        "    else:\n",
        "        print(f\"Failed to download file. HTTP Status Code: {response.status_code}\")\n",
        "\n",
        "# Example usage\n",
        "url = 'https://archive.ics.uci.edu/ml/machine-learning-databases/00228/smsspamcollection.zip'\n",
        "extract_to = './smsspamcollection'  # Directory where you want to extract the files\n",
        "\n",
        "download_and_extract_zip(url, extract_to)\n",
        "\n"
      ]
    },
    {
      "cell_type": "code",
      "source": [
        "import pandas as pd\n",
        "\n",
        "messages= pd.read_csv('smsspamcollection/SMSSpamCollection',sep='\\t',names=[\"Label\",\"message\"])"
      ],
      "metadata": {
        "id": "rgUXXonjPv4k"
      },
      "execution_count": 13,
      "outputs": []
    },
    {
      "cell_type": "code",
      "source": [
        "import re\n",
        "import nltk\n",
        "nltk.download('stopwords')\n",
        "from nltk.corpus import stopwords\n",
        "from nltk.stem.porter import PorterStemmer\n",
        "ps = PorterStemmer()\n",
        "corpus =[]\n",
        "for i in range(0,len(messages)):\n",
        "  review=re.sub('[^a-zA-Z]',' ',messages['message'][i])\n",
        "  review = review.lower() # Make sure this line is indented at the same level as the one above\n",
        "  review = review.split()\n",
        "  review = [ps.stem(word) for word in review if not word in stopwords.words('english')]\n",
        "  review = ' '.join(review)\n",
        "  corpus.append(review)\n",
        "\n",
        "#Creating the bag of words model.\n",
        "from sklearn.feature_extraction.text import CountVectorizer\n",
        "cv =CountVectorizer(max_features=2500)\n",
        "X=cv.fit_transform(corpus).toarray()\n",
        "\n",
        "y=pd.get_dummies(messages['Label'])\n",
        "y=y.iloc[:,1].values\n",
        "y,X"
      ],
      "metadata": {
        "colab": {
          "base_uri": "https://localhost:8080/"
        },
        "id": "y9vo4DbzRrZT",
        "outputId": "98e5d880-a72f-4bdb-ecd8-26c6c48299c5"
      },
      "execution_count": 14,
      "outputs": [
        {
          "output_type": "stream",
          "name": "stderr",
          "text": [
            "[nltk_data] Downloading package stopwords to /root/nltk_data...\n",
            "[nltk_data]   Package stopwords is already up-to-date!\n"
          ]
        },
        {
          "output_type": "execute_result",
          "data": {
            "text/plain": [
              "(array([False, False,  True, ..., False, False, False]),\n",
              " array([[0, 0, 0, ..., 0, 0, 0],\n",
              "        [0, 0, 0, ..., 0, 0, 0],\n",
              "        [0, 0, 0, ..., 0, 0, 0],\n",
              "        ...,\n",
              "        [0, 0, 0, ..., 0, 0, 0],\n",
              "        [0, 0, 0, ..., 0, 0, 0],\n",
              "        [0, 0, 0, ..., 0, 0, 0]]))"
            ]
          },
          "metadata": {},
          "execution_count": 14
        }
      ]
    },
    {
      "cell_type": "code",
      "source": [
        "#Train Test split.\n",
        "from sklearn.model_selection import train_test_split\n",
        "X_train,X_test,y_train,y_test = train_test_split(X,y,test_size=0.2, random_state=0)\n",
        "#Training model using Naive bayes Classifier.\n",
        "from sklearn.naive_bayes import MultinomialNB\n",
        "spam_detect_model = MultinomialNB().fit(X_train,y_train)\n",
        "y_pred=spam_detect_model.predict(X_test)\n",
        "from sklearn.metrics import accuracy_score\n",
        "print(\"accuracy:\",accuracy_score(y_test,y_pred))\n",
        "\n"
      ],
      "metadata": {
        "colab": {
          "base_uri": "https://localhost:8080/"
        },
        "id": "P1vA9jrGWgmu",
        "outputId": "02f966b9-ce9f-4eee-d353-770eb80cd724"
      },
      "execution_count": 16,
      "outputs": [
        {
          "output_type": "stream",
          "name": "stdout",
          "text": [
            "accuracy: 0.9856502242152466\n"
          ]
        }
      ]
    },
    {
      "cell_type": "code",
      "source": [
        "#WE could use TF_IDF.\n",
        "from sklearn.feature_extraction.text import TfidfVectorizer\n",
        "tfvectorizer =TfidfVectorizer(max_features=2500)\n",
        "X=tfvectorizer.fit_transform(corpus).toarray()\n",
        "y=pd.get_dummies(messages['Label'])\n",
        "y=y.iloc[:,1].values\n",
        "#Train Test Split.\n",
        "from sklearn.model_selection import train_test_split\n",
        "X_train,X_test,y_train,y_test = train_test_split(X,y,test_size=0.20,random_state=0)\n",
        "#Training model using the NAIVE bAYES Classifier.\n",
        "from sklearn.naive_bayes import MultinomialNB\n",
        "spam_detect_model =MultinomialNB().fit(X_train,y_train)\n",
        "y_pred=spam_detect_model.predict(X_test)\n",
        "from sklearn.metrics import accuracy_score\n",
        "print(\"accuracy:\", accuracy_score(y_test,y_pred))"
      ],
      "metadata": {
        "colab": {
          "base_uri": "https://localhost:8080/"
        },
        "id": "6HpUNckuqWsu",
        "outputId": "2c11f359-4733-4525-8664-7acb8cf7ea05"
      },
      "execution_count": 19,
      "outputs": [
        {
          "output_type": "stream",
          "name": "stdout",
          "text": [
            "accuracy: 0.979372197309417\n"
          ]
        }
      ]
    },
    {
      "cell_type": "code",
      "source": [
        "#Accuracy of BOW > acc of TFID."
      ],
      "metadata": {
        "id": "Cc5fAWWYrJyV"
      },
      "execution_count": null,
      "outputs": []
    }
  ]
}